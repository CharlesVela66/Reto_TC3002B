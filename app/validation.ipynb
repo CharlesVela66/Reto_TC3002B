{
 "cells": [
  {
   "cell_type": "code",
   "execution_count": null,
   "metadata": {},
   "outputs": [],
   "source": [
    "import joblib\n",
    "from pygments.lexers import JavaLexer\n",
    "from pygments import lex"
   ]
  },
  {
   "cell_type": "code",
   "execution_count": 30,
   "metadata": {},
   "outputs": [],
   "source": [
    "def extract_tokens(code):\n",
    "    \"\"\"\n",
    "    Extracts all tokens from the given Java code using Pygments.\n",
    "    \n",
    "    Args:\n",
    "        code (str): Java code as a string.\n",
    "        \n",
    "    Returns:\n",
    "        str: All tokens extracted from the code, joined by spaces.\n",
    "    \"\"\"\n",
    "    lexer = JavaLexer()\n",
    "    tokens = []\n",
    "    for ttype, value in lex(code, lexer):\n",
    "        if not str(ttype).startswith('Token.Text.Whitespace'):\n",
    "            val = value.strip()\n",
    "            if val:\n",
    "                tokens.append(f\"{ttype}:{val}\")\n",
    "    return \" \".join(tokens)"
   ]
  },
  {
   "cell_type": "code",
   "execution_count": null,
   "metadata": {},
   "outputs": [],
   "source": [
    "def predict_similarity(file1, file2, model_path, vectorizer_path, threshold = 0.50):\n",
    "    \"\"\"\n",
    "    Predice la similitud entre dos archivos de código Java.\n",
    "\n",
    "    Args:\n",
    "        file1 (str): Ruta al primer archivo Java.\n",
    "        file2 (str): Ruta al segundo archivo Java.\n",
    "        model_path (str): Ruta al modelo entrenado.\n",
    "        vectorizer_path (str): Ruta al vectorizador entrenado.\n",
    "\n",
    "    Returns:\n",
    "        tuple: (score, is_similar)\n",
    "    \"\"\"\n",
    "    try:\n",
    "        model = joblib.load(model_path)\n",
    "        vectorizer = joblib.load(vectorizer_path)\n",
    "        \n",
    "        with open(file1, 'r', encoding='utf-8') as f:\n",
    "            code1 = f.read()\n",
    "        \n",
    "        with open(file2, 'r', encoding='utf-8') as f:\n",
    "            code2 = f.read()\n",
    "        \n",
    "        if len(code1.strip()) < 10 or len(code2.strip()) < 10:\n",
    "            return 0.0, False\n",
    "        \n",
    "        t1 = extract_tokens(code1)\n",
    "        t2 = extract_tokens(code2)\n",
    "        token_pair = f\"{t1} {t2}\"\n",
    "        \n",
    "        X = vectorizer.transform([token_pair])\n",
    "        \n",
    "        X_features = X.toarray()\n",
    "        \n",
    "        proba = model.predict_proba(X_features)[0]\n",
    "        similarity_score = proba[1] if len(proba) > 1 else proba[0]\n",
    "    \n",
    "        is_similar = similarity_score >= threshold\n",
    "        \n",
    "        return similarity_score, is_similar\n",
    "    \n",
    "    except Exception as e:\n",
    "        print(f\"Error en la predicción: {str(e)}\")\n",
    "        return None, False"
   ]
  },
  {
   "cell_type": "code",
   "execution_count": null,
   "metadata": {},
   "outputs": [
    {
     "name": "stdout",
     "output_type": "stream",
     "text": [
      "\n",
      "=== RESULTADOS DE LA DETECCIÓN DE PLAGIO ===\n",
      "Archivo 1: original.java\n",
      "Archivo 2: plagiarized.java\n",
      "Puntaje de similitud: 0.9999 (0-1)\n",
      "Plagio detectado: SÍ\n",
      "==========================================\n",
      "\n",
      "INFORMACIÓN ADICIONAL:\n",
      "- Tamaño del archivo 1: 128 bytes\n",
      "- Tamaño del archivo 2: 128 bytes\n",
      "- Modelo utilizado: mlp_model.pkl\n",
      "\n",
      "RESULTADO_JSON: {'score': 0.9999446264537352, 'is_plagiarism': True}\n"
     ]
    }
   ],
   "source": [
    "   \n",
    "file1 = \"original.java\"\n",
    "file2 = \"plagiarized.java\"\n",
    "    \n",
    "model_path = \"mlp_model.pkl\"\n",
    "vectorizer_path = \"mlp_model_vectorizer.pkl\"\n",
    "    \n",
    "score, is_similar = predict_similarity(file1, file2, model_path, vectorizer_path)\n",
    "    \n",
    "print(\"\\nRESULTS\")\n",
    "print(f\"FILE 1: {file1}\")\n",
    "print(f\"FILE 2: {file2}\")\n",
    "print(f\"SIMILARITY: {score:.4f}\")\n",
    "print(f\"PLAGIARISM DETECTED: {'YES' if is_similar else 'NO'}\")"
   ]
  }
 ],
 "metadata": {
  "kernelspec": {
   "display_name": "Python 3",
   "language": "python",
   "name": "python3"
  },
  "language_info": {
   "codemirror_mode": {
    "name": "ipython",
    "version": 3
   },
   "file_extension": ".py",
   "mimetype": "text/x-python",
   "name": "python",
   "nbconvert_exporter": "python",
   "pygments_lexer": "ipython3",
   "version": "3.13.3"
  },
  "orig_nbformat": 4
 },
 "nbformat": 4,
 "nbformat_minor": 2
}
