{
 "cells": [
  {
   "cell_type": "code",
   "execution_count": null,
   "id": "9eb6c7c8",
   "metadata": {},
   "outputs": [],
   "source": [
    "import os\n",
    "\n",
    "# Change the base path to your dataset location\n",
    "# This is the path where the dataset is located\n",
    "# BASE_PATH = 'C:/Users\\Charl/OneDrive/Documents/UNI/Reto_TC3002B/dataset/versions/bplag_version_2'\n",
    "BASE_PATH = 'C:/Users\\Charl/OneDrive/Documents/UNI/Reto_TC3002B/dataset/versions/bplag_version_2'"
   ]
  },
  {
   "cell_type": "code",
   "execution_count": 2,
   "id": "ed95e47a",
   "metadata": {},
   "outputs": [],
   "source": [
    "def read_java_files(base_path):\n",
    "    \"\"\"\n",
    "    Recursively reads all .java files from the given base path.\n",
    "    \n",
    "    Args:\n",
    "        base_path (str): Path to the base directory containing submission pairs.\n",
    "    \n",
    "    Returns:\n",
    "        data (list): List of tuples (submission_id, code_content).\n",
    "    \"\"\"\n",
    "    data = []\n",
    "    \n",
    "    # Iterate over all submission pairs\n",
    "    for submission_pair in os.listdir(base_path):\n",
    "        pair_path = os.path.join(base_path, submission_pair)\n",
    "        \n",
    "        if os.path.isdir(pair_path):\n",
    "            # Iterate over each submission inside the pair\n",
    "            for submission_id in os.listdir(pair_path):\n",
    "                submission_path = os.path.join(pair_path, submission_id)\n",
    "                \n",
    "                if os.path.isdir(submission_path):\n",
    "                    # Look for .java files inside the submission directory\n",
    "                    for file in os.listdir(submission_path):\n",
    "                        if file.endswith('.java'):\n",
    "                            file_path = os.path.join(submission_path, file)\n",
    "                            with open(file_path, 'r', encoding='utf-8') as f:\n",
    "                                code = f.read()\n",
    "                                data.append((submission_id, code))\n",
    "    \n",
    "    return data"
   ]
  },
  {
   "cell_type": "code",
   "execution_count": null,
   "id": "bbcf8253",
   "metadata": {},
   "outputs": [
    {
     "name": "stdout",
     "output_type": "stream",
     "text": [
      "Total submissions loaded: 1822\n",
      "\n",
      "First 2 submissions loaded:\n",
      "Submission ID: 0017d438\n",
      "Code snippet:\n",
      "import java.io.BufferedReader;\n",
      "import java.io.DataInputStream;\n",
      "import java.io.IOException;\n",
      "import java.io.InputStreamReader;\n",
      "import java.util.*;\n",
      "public class Main {\n",
      "    static int modulo=998244353;\n",
      "    public static void main(String[] args) {\n",
      "       \n",
      "        FastScanner in = new FastScanner();\n",
      "     ...\n",
      "\n",
      "Submission ID: 9852706b\n",
      "Code snippet:\n",
      "import java.io.BufferedReader;\n",
      "import java.io.IOException;\n",
      "import java.io.InputStreamReader;\n",
      "import java.io.PrintWriter;\n",
      "import java.util.*;\n",
      "\n",
      "public class A {\n",
      "    static List<Integer> [] adj;\n",
      "    static ArrayList<Integer> temp;\n",
      "    static int mod = (int) 1e9+7;\n",
      "    static boolean[] vis = new boolean...\n",
      "\n"
     ]
    }
   ],
   "source": [
    "# Read the Java files\n",
    "java_files_data = read_java_files(BASE_PATH)\n",
    "\n",
    "# Print the number of submissions loaded and the first few entries\n",
    "print(f\"Total submissions loaded: {len(java_files_data)}\")\n",
    "print(\"\\nFirst 2 submissions loaded:\")\n",
    "for submission_id, code in java_files_data[:2]:\n",
    "    print(f\"Submission ID: {submission_id}\\nCode snippet:\\n{code[:300]}...\\n\")"
   ]
  }
 ],
 "metadata": {
  "kernelspec": {
   "display_name": "Python 3",
   "language": "python",
   "name": "python3"
  },
  "language_info": {
   "codemirror_mode": {
    "name": "ipython",
    "version": 3
   },
   "file_extension": ".py",
   "mimetype": "text/x-python",
   "name": "python",
   "nbconvert_exporter": "python",
   "pygments_lexer": "ipython3",
   "version": "3.10.0"
  }
 },
 "nbformat": 4,
 "nbformat_minor": 5
}
