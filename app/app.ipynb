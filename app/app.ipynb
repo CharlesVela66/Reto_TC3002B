{
  "cells": [
    {
      "cell_type": "markdown",
      "id": "b95bc34f",
      "metadata": {},
      "source": [
        "# Detector de plagio en código fuente (archivos .java)\n",
        "Este notebook presenta el desarrollo de un modelo para detectar plagio en archivos de código fuente escritos en Java. Se utiliza el dataset \"conplag\", ubicado en   `dataset/versions/b_plag_version_2`, el cual contiene carpetas con archivos originales y versiones plagiadas.\n",
        "\n",
        "## Objetivo\n",
        "Desarrollar una herramienta híbrida automatizada que detecte plagio en código fuente, combinando análisis léxico (tokenización) y técnicas de aprendizaje automático. El objetivo es alcanzar una precisión superior al 80% en la clasificación de código como plagiado o no plagiado."
      ]
    },
    {
      "cell_type": "markdown",
      "id": "b1ee15c5",
      "metadata": {},
      "source": [
        "## Importación de librerías\n",
        "Se importan las librerías necesarias para el procesamiento de archivos, tokenización de código Java, manipulación de datos y desarrollo del modelo de machine learning"
      ]
    },
    {
      "cell_type": "code",
      "execution_count": 1,
      "id": "9eb6c7c8",
      "metadata": {},
      "outputs": [],
      "source": [
        "#%pip install pandas numpy matplotlib seaborn joblib pygments scikit-learn imbalanced-learn\n",
        "\n",
        "import os\n",
        "import random\n",
        "from pathlib import Path\n",
        "import pandas as pd\n",
        "import numpy as np\n",
        "import matplotlib.pyplot as plt\n",
        "import seaborn as sns\n",
        "import joblib\n",
        "\n",
        "from pygments import lex\n",
        "from pygments.lexers import JavaLexer\n",
        "\n",
        "from sklearn.feature_extraction.text import TfidfVectorizer\n",
        "from sklearn.model_selection import train_test_split\n",
        "from sklearn.metrics import classification_report, confusion_matrix\n",
        "from sklearn.ensemble import RandomForestClassifier\n",
        "from sklearn.linear_model import LogisticRegression\n",
        "from sklearn.neural_network import MLPClassifier"
      ]
    },
    {
      "cell_type": "markdown",
      "id": "00fd81c2",
      "metadata": {},
      "source": [
        "## Definición de rutas\n",
        "Se definen las rutas base para acceder al dataset y a los archivos de etiquetas"
      ]
    },
    {
      "cell_type": "code",
      "execution_count": 2,
      "id": "20022a95",
      "metadata": {},
      "outputs": [],
      "source": [
        "ROOT = Path().cwd().parent\n",
        "BASE_PATH = ROOT / \"dataset\" / \"versions\" / \"bplag_version_2\"\n",
        "LABELS_PATH = ROOT / \"dataset\" / \"versions\" / \"labels.csv\""
      ]
    },
    {
      "cell_type": "markdown",
      "id": "2ec18c12",
      "metadata": {},
      "source": [
        "## Lectura de archivos .java\n",
        "La función read_java_files() se encarga de recorrer recursivamente la estructura del dataset y leer el contenido de todos los archivos .java. Devuelve una lista con los identificadores de cada entrega y su respectivo código fuente."
      ]
    },
    {
      "cell_type": "code",
      "execution_count": 3,
      "id": "ed95e47a",
      "metadata": {},
      "outputs": [],
      "source": [
        "def read_java_files(base_path):\n",
        "    \"\"\"\n",
        "    Recursively reads all .java files from the given base path.\n",
        "    \n",
        "    Args:\n",
        "        base_path (str): Path to the base directory containing submission pairs.\n",
        "    \n",
        "    Returns:\n",
        "        data (list): List of tuples (submission_id, code_content).\n",
        "    \"\"\"\n",
        "    data = []\n",
        "    \n",
        "    for submission_pair in os.listdir(base_path):\n",
        "        pair_path = os.path.join(base_path, submission_pair)\n",
        "        \n",
        "        if os.path.isdir(pair_path):\n",
        "            for submission_id in os.listdir(pair_path):\n",
        "                submission_path = os.path.join(pair_path, submission_id)\n",
        "                \n",
        "                if os.path.isdir(submission_path):\n",
        "                    for file in os.listdir(submission_path):\n",
        "                        if file.endswith('.java'):\n",
        "                            file_path = os.path.join(submission_path, file)\n",
        "                            with open(file_path, 'r', encoding='utf-8') as f:\n",
        "                                code = f.read()\n",
        "                                data.append((submission_id, code))\n",
        "    \n",
        "    return data"
      ]
    },
    {
      "cell_type": "code",
      "execution_count": 4,
      "id": "bbcf8253",
      "metadata": {},
      "outputs": [
        {
          "name": "stdout",
          "output_type": "stream",
          "text": [
            "Total submissions loaded: 1822\n",
            "\n",
            "First 2 submissions loaded:\n",
            "Submission ID: 0017d438\n",
            "Code snippet:\n",
            "import java.io.BufferedReader;\n",
            "import java.io.DataInputStream;\n",
            "import java.io.IOException;\n",
            "import java.io.InputStreamReader;\n",
            "import java.util.*;\n",
            "public class Main {\n",
            "    static int modulo=998244353;\n",
            "    public static void main(String[] args) {\n",
            "       \n",
            "        FastScanner in = new FastScanner();\n",
            "     ...\n",
            "\n",
            "Submission ID: 9852706b\n",
            "Code snippet:\n",
            "import java.io.BufferedReader;\n",
            "import java.io.IOException;\n",
            "import java.io.InputStreamReader;\n",
            "import java.io.PrintWriter;\n",
            "import java.util.*;\n",
            "\n",
            "public class A {\n",
            "    static List<Integer> [] adj;\n",
            "    static ArrayList<Integer> temp;\n",
            "    static int mod = (int) 1e9+7;\n",
            "    static boolean[] vis = new boolean...\n",
            "\n"
          ]
        }
      ],
      "source": [
        "java_files_data = read_java_files(BASE_PATH)\n",
        "\n",
        "print(f\"Total submissions loaded: {len(java_files_data)}\")\n",
        "print(\"\\nFirst 2 submissions loaded:\")\n",
        "for submission_id, code in java_files_data[:2]:\n",
        "    print(f\"Submission ID: {submission_id}\\nCode snippet:\\n{code[:300]}...\\n\")"
      ]
    },
    {
      "cell_type": "markdown",
      "id": "26774854",
      "metadata": {},
      "source": [
        "## Extracción de tokens\n",
        "\n",
        "Para esta sección se utiliza la librería Pygments como analizador léxico. Esta librería permite extraer los tokens de un código fuente y clasificarlos en diferentes categorías. En este caso, se utilizará para extraer los tokens de código fuente en Java."
      ]
    },
    {
      "cell_type": "code",
      "execution_count": 5,
      "id": "b981f462",
      "metadata": {},
      "outputs": [],
      "source": [
        "def extract_tokens(code):\n",
        "    \"\"\"\n",
        "    Extracts ALL tokens from the given Java code using Pygments.\n",
        "    \n",
        "    Args:\n",
        "        code (str): Java code as a string.\n",
        "        \n",
        "    Returns:\n",
        "        tokens (list): List of all tokens extracted from the code.\n",
        "    \"\"\"\n",
        "    lexer = JavaLexer()\n",
        "    tokens = []\n",
        "    for ttype, value in lex(code, lexer):\n",
        "        if not str(ttype).startswith('Token.Text.Whitespace'):\n",
        "            val = value.strip()\n",
        "            if val:\n",
        "                tokens.append(f\"{ttype}:{val}\")\n",
        "    return \" \".join(tokens)"
      ]
    },
    {
      "cell_type": "markdown",
      "id": "d12ecfda",
      "metadata": {},
      "source": [
        "## Preparación de los datos y etiquetas\n",
        "Se cargan las etiquetas desde el archivo labels.csv y se construye un diccionario para acceder fácilmente al veredicto (si un archivo es plagio o no) entre pares de entregas.\n",
        "\n",
        "Luego, se recorren los datos de código Java en pares, extrayendo los tokens de cada archivo y concatenándolos como una sola representación textual del par. \n",
        "\n",
        "Paralelamente, se asigna la etiqueta correspondiente (plagiado o no) a cada par utilizando el diccionario previamente generado.\n",
        "\n",
        "Este proceso genera dos listas:\n",
        "\n",
        "- token_pairs: Representación textual de los pares de código.\n",
        "\n",
        "- labels: Etiquetas binarias que indican si el par es plagiado."
      ]
    },
    {
      "cell_type": "code",
      "execution_count": 6,
      "id": "58bd1fbe",
      "metadata": {},
      "outputs": [],
      "source": [
        "labels_df = pd.read_csv(LABELS_PATH)\n",
        "\n",
        "labels_dict = {}\n",
        "for _, row in labels_df.iterrows():\n",
        "    key = (row['sub1'], row['sub2'])\n",
        "    labels_dict[key] = row['verdict']\n",
        "\n",
        "token_pairs = []\n",
        "labels = []\n",
        "\n",
        "for i in range(0, len(java_files_data), 2):\n",
        "    try:\n",
        "        id1, code1 = java_files_data[i]\n",
        "        id2, code2 = java_files_data[i+1]\n",
        "    except IndexError:\n",
        "        break\n",
        "        \n",
        "    t1 = extract_tokens(code1)\n",
        "    t2 = extract_tokens(code2)\n",
        "    token_pairs.append(f\"{t1} {t2}\")\n",
        "    \n",
        "    if (id1, id2) in labels_dict:\n",
        "        labels.append(labels_dict[(id1, id2)])\n",
        "    elif (id2, id1) in labels_dict:\n",
        "        labels.append(labels_dict[(id2, id1)])\n",
        "    else:\n",
        "        print(f\"Warning: No label found for pair ({id1}, {id2})\")\n",
        "        labels.append(0) \n",
        "        "
      ]
    },
    {
      "cell_type": "markdown",
      "id": "39a738c2",
      "metadata": {},
      "source": [
        "## Data Augmentation\n",
        "\n",
        "Debido a que nuestro dataset original contenía menos de 1000 pares de código, el modelo tenía una exposición limitada a ejemplos variados, lo que afectaba negativamente su capacidad de generalización y su rendimiento predictivo. Para mitigar este problema, implementamos una estrategia de aumento de datos que multiplicó el tamaño del conjunto original por 3 veces.\n",
        "\n",
        "La función augment_token_sequence() permite generar nuevas versiones sintéticas de los pares de tokens aplicando pequeñas modificaciones controladas, lo que introduce variabilidad sin alterar significativamente la lógica del código original. Estas son las técnicas utilizadas:\n",
        "\n",
        "- Drop: Elimina tokens no críticos de forma aleatoria, simulando la omisión intencional de fragmentos para disimular el plagio.\n",
        "\n",
        "- Synonym: Sustituye variables por sinónimos simulados (e.g., i por index), representando un cambio común en plagios superficiales.\n",
        "\n",
        "Estas transformaciones ayudan a enriquecer el entrenamiento del modelo, exponiéndolo a variaciones más realistas en los datos y mejorando su capacidad para identificar plagio con mayor precisión.\n",
        "\n",
        "La función generate_augmented_pairs() une los nuevos pares de tokens generados por la aumentación y les asigna las etiquetas correspondientes."
      ]
    },
    {
      "cell_type": "code",
      "execution_count": 7,
      "id": "037f4ca4",
      "metadata": {},
      "outputs": [],
      "source": [
        "def augment_token_sequence(tokens, augmentation_method='drop', ratio=0.1):\n",
        "    \"\"\"\n",
        "    Augments a token sequence using various methods.\n",
        "    \n",
        "    Args:\n",
        "        tokens (str): The token sequence string to be augmented.\n",
        "        augmentation_method (str): The method to use for augmentation.\n",
        "            'drop': Randomly drops some tokens.\n",
        "            'synonym': Replaces some tokens with synonyms (simulated).\n",
        "        ratio (float): The percentage of tokens to modify (0.0 to 1.0).\n",
        "    \n",
        "    Returns:\n",
        "        str: The augmented token sequence as a string.\n",
        "    \"\"\"\n",
        "    token_list = tokens.split()\n",
        "    total_tokens = len(token_list)\n",
        "    num_to_modify = max(1, int(total_tokens * ratio))\n",
        "    \n",
        "    augmented_tokens = token_list.copy()\n",
        "    \n",
        "    if augmentation_method == 'drop':\n",
        "        critical_tokens = ['_TokenType:public', '_TokenType:class', '_TokenType:import', '_TokenType:static', '_TokenType:void', '_TokenType:main']\n",
        "        indices_to_drop = []\n",
        "        \n",
        "        for _ in range(num_to_modify):\n",
        "            valid_indices = [i for i, token in enumerate(augmented_tokens) \n",
        "                            if token not in critical_tokens and i not in indices_to_drop]\n",
        "            if not valid_indices:\n",
        "                break\n",
        "            idx = random.choice(valid_indices)\n",
        "            indices_to_drop.append(idx)\n",
        "        \n",
        "        augmented_tokens = [token for i, token in enumerate(augmented_tokens) if i not in indices_to_drop]\n",
        "    \n",
        "    elif augmentation_method == 'synonym':\n",
        "        variable_prefixes = ['_TokenType:i', '_TokenType:j', '_TokenType:k', '_TokenType:n', '_TokenType:m', '_TokenType:x', '_TokenType:y']\n",
        "        synonym_mapping = {\n",
        "            '_TokenType:i': ['_TokenType:idx', '_TokenType:index', '_TokenType:i'],\n",
        "            '_TokenType:j': ['_TokenType:jdx', '_TokenType:j'],\n",
        "            '_TokenType:k': ['_TokenType:kdx', '_TokenType:key', '_TokenType:k'],\n",
        "            '_TokenType:n': ['_TokenType:num', '_TokenType:size', '_TokenType:n'],\n",
        "            '_TokenType:m': ['_TokenType:max', '_TokenType:m'],\n",
        "            '_TokenType:x': ['_TokenType:xVal', '_TokenType:x'],\n",
        "            '_TokenType:y': ['_TokenType:yVal', '_TokenType:y']\n",
        "        }\n",
        "        \n",
        "        for _ in range(num_to_modify):\n",
        "            variable_indices = [i for i, token in enumerate(augmented_tokens) \n",
        "                               if any(token.startswith(prefix) for prefix in variable_prefixes)]\n",
        "            if not variable_indices:\n",
        "                break\n",
        "                \n",
        "            idx = random.choice(variable_indices)\n",
        "            token = augmented_tokens[idx]\n",
        "            \n",
        "            matching_prefix = next((prefix for prefix in variable_prefixes if token.startswith(prefix)), None)\n",
        "            if matching_prefix and matching_prefix in synonym_mapping:\n",
        "                augmented_tokens[idx] = random.choice(synonym_mapping[matching_prefix])\n",
        "    \n",
        "    return ' '.join(augmented_tokens)"
      ]
    },
    {
      "cell_type": "code",
      "execution_count": null,
      "id": "94c18ae1",
      "metadata": {},
      "outputs": [],
      "source": [
        "def generate_augmented_pairs(token_pairs, labels, factor=2):\n",
        "    \"\"\"\n",
        "    Generates augmented token pairs and corresponding labels.\n",
        "    \n",
        "    Args:\n",
        "        token_pairs (list): Original token pairs.\n",
        "        labels (list): Original labels.\n",
        "        factor (int): Number of augmentations per original sample.\n",
        "        \n",
        "    Returns:\n",
        "        tuple: (augmented_pairs, augmented_labels)\n",
        "    \"\"\"\n",
        "    augmentation_methods = ['drop', 'synonym']\n",
        "    augmented_pairs = []\n",
        "    augmented_labels = []\n",
        "    \n",
        "    for pair, label in zip(token_pairs, labels):\n",
        "        augmented_pairs.append(pair)\n",
        "        augmented_labels.append(label)\n",
        "        \n",
        "        parts = pair.split(' ', 1)\n",
        "        if len(parts) < 2:\n",
        "            continue  \n",
        "        \n",
        "        token_seq1, token_seq2 = parts\n",
        "        \n",
        "        for _ in range(factor):\n",
        "            method1 = random.choice(augmentation_methods)\n",
        "            method2 = random.choice(augmentation_methods)\n",
        "            \n",
        "            aug_seq1 = augment_token_sequence(token_seq1, method1, ratio=0.1)\n",
        "            aug_seq2 = augment_token_sequence(token_seq2, method2, ratio=0.1)\n",
        "            \n",
        "            augmented_pair = f\"{aug_seq1} {aug_seq2}\"\n",
        "            \n",
        "            augmented_pairs.append(augmented_pair)\n",
        "            augmented_labels.append(label)\n",
        "    \n",
        "    return augmented_pairs, augmented_labels"
      ]
    },
    {
      "cell_type": "code",
      "execution_count": null,
      "id": "66fc83ec",
      "metadata": {},
      "outputs": [
        {
          "name": "stdout",
          "output_type": "stream",
          "text": [
            "Original dataset size: 911\n",
            "Augmented dataset size: 2733\n"
          ]
        }
      ],
      "source": [
        "print(f\"Original dataset size: {len(token_pairs)}\")\n",
        "augmented_token_pairs, augmented_labels = generate_augmented_pairs(token_pairs, labels, factor=2)\n",
        "print(f\"Augmented dataset size: {len(augmented_token_pairs)}\")"
      ]
    },
    {
      "cell_type": "markdown",
      "id": "c5f33bd6",
      "metadata": {},
      "source": [
        "## Vectorización de Datos\n",
        "Una vez generadas las secuencias de tokens (originales y aumentadas), el siguiente paso es transformar estos textos en representaciones numéricas que puedan ser utilizadas por algoritmos de aprendizaje automático. Para ello, empleamos la técnica TF-IDF (Term Frequency–Inverse Document Frequency), que asigna pesos a cada token en función de su frecuencia en un documento.\n",
        "\n",
        "La función vectorize() se encarga de convertir los pares de tokens en una matriz dispersa, donde cada fila representa una instancia y cada columna una característica (token). Esta representación es fundamental para que el modelo pueda aprender patrones a partir del contenido del código fuente.\n",
        "\n",
        "En esta etapa se utilizó el conjunto de datos aumentado para asegurar una mejor cobertura léxica durante el proceso de vectorización."
      ]
    },
    {
      "cell_type": "code",
      "execution_count": 10,
      "id": "e75ae232",
      "metadata": {},
      "outputs": [],
      "source": [
        "def vectorize(token_pairs):\n",
        "    \"\"\"\n",
        "    Vectorizes the given token pairs using TF-IDF.\n",
        "    \n",
        "    Args:\n",
        "        token_pairs (list): List of tokens to be vectorized.\n",
        "    \n",
        "    Returns:\n",
        "        vectorizer (TfidfVectorizer): Fitted TF-IDF vectorizer.\n",
        "        X (sparse matrix): TF-IDF matrix of the token pairs.\n",
        "    \"\"\"\n",
        "    vectorizer = TfidfVectorizer(\n",
        "        ngram_range=(1, 3), \n",
        "        max_features=10000,  \n",
        "        min_df=2             \n",
        "    )\n",
        "    X = vectorizer.fit_transform(token_pairs)\n",
        "    return vectorizer, X"
      ]
    },
    {
      "cell_type": "code",
      "execution_count": 11,
      "id": "00082e8d",
      "metadata": {},
      "outputs": [],
      "source": [
        "vectorizer, X = vectorize(augmented_token_pairs)\n",
        "Y = augmented_labels"
      ]
    },
    {
      "cell_type": "markdown",
      "id": "da83cb61",
      "metadata": {},
      "source": [
        "## Separación del Conjunto de Datos y Balanceo de Clases\n",
        "Antes de entrenar el modelo, se transformó la matriz TF-IDF dispersa a una representación densa (X_dense) para su uso en ciertos algoritmos que no aceptan matrices dispersas.\n",
        "\n",
        "Posteriormente, el conjunto de datos fue dividido en entrenamiento y prueba utilizando muestreo estratificado, lo cual garantiza que la distribución de clases (por ejemplo, plagio vs. no plagio) se mantenga proporcional en ambos subconjuntos. Esto es crucial cuando se trabaja con clases desbalanceadas."
      ]
    },
    {
      "cell_type": "code",
      "execution_count": 13,
      "id": "016412c0",
      "metadata": {},
      "outputs": [],
      "source": [
        "X_dense = X.toarray()\n",
        "\n",
        "X_train, X_test, y_train, y_test = train_test_split(\n",
        "    X_dense, Y, test_size=0.2, random_state=42, stratify=Y)"
      ]
    },
    {
      "cell_type": "markdown",
      "id": "28d9b773",
      "metadata": {},
      "source": [
        "## Función  para evaluar el modelo\n",
        "Declaración de la función evaluate_model para evaluar al modelo una vez terminado el entrenamiento para ver su capacidad predictiva con datos que no fueron vistos durante el entrenamiento. Al terminar la evaluación obtenemos las métricas (precision, recall, f1 y accuracy) para determinar el ajuste y rendimiento del modelo."
      ]
    },
    {
      "cell_type": "code",
      "execution_count": 14,
      "id": "d1405f2f",
      "metadata": {},
      "outputs": [],
      "source": [
        "def evaluate_model(name, model, X_test, y_test):\n",
        "    \"\"\"\n",
        "    Evaluates model performance and returns metrics.\n",
        "    \n",
        "    Args:\n",
        "        name (str): Model name for display purposes.\n",
        "        model: Trained model to evaluate.\n",
        "        X_test: Test features.\n",
        "        y_test: True labels.\n",
        "        \n",
        "    Returns:\n",
        "        dict: Dictionary with accuracy, precision, recall, and f1 metrics.\n",
        "    \"\"\"\n",
        "    \n",
        "    y_pred = model.predict(X_test)\n",
        "\n",
        "    cm = confusion_matrix(y_test, y_pred)\n",
        "\n",
        "    plt.figure(figsize=(9, 7))\n",
        "    sns.heatmap(cm, annot=True, fmt='d', cmap='Blues', cbar=False, square=True,\n",
        "                xticklabels=np.unique(y_test), yticklabels=np.unique(y_test))\n",
        "    plt.xlabel('Predicted')\n",
        "    plt.ylabel('True')\n",
        "    plt.title(f'Confusion Matrix | {name}')\n",
        "    plt.show()\n",
        "    \n",
        "    print(classification_report(y_test, y_pred, digits=4))\n"
      ]
    },
    {
      "cell_type": "markdown",
      "id": "6b9558a2",
      "metadata": {},
      "source": [
        "## Definición del modelo y entrenamiento\n",
        "Para encontrar la mejor arquitectura que se adecúe a la problemática, hemos decidido utilizar tres arquitecturas diferentes con el fin de comparar sus métricas y así tener la suficiente información como para tomar una decisión basada en los datos. Para identificar el modelo más adecuado al problema de detección de plagio, se entrenaron y compararon los siguientes clasificadores:\n",
        "\n",
        "- Logistic Regression (LR): Modelo lineal utilizado para clasificación binaria. Calcula la probabilidad de pertenencia a una clase usando la función sigmoide. Es sencillo, rápido y efectivo para problemas linealmente separables.\n",
        "\n",
        "- Random Forest (RF): Ensamble de múltiples árboles de decisión entrenados sobre diferentes subconjuntos del conjunto de datos. Es robusto, reduce el sobreajuste y suele ofrecer un buen rendimiento general en tareas de clasificación.\n",
        "\n",
        "- Multi-layer Perceptron (MLP): Red neuronal completamente conectada con al menos una capa oculta. Puede modelar relaciones no lineales complejas entre características y clases. En este caso, se utiliza una arquitectura básica con una sola capa oculta de 100 neuronas y función de activación ReLU."
      ]
    },
    {
      "cell_type": "code",
      "execution_count": null,
      "id": "76462cff",
      "metadata": {},
      "outputs": [],
      "source": [
        "lr_model = LogisticRegression(class_weight='balanced')\n",
        "\n",
        "rf_model = RandomForestClassifier(class_weight={0: 1, 1: 3},\n",
        "                                    n_estimators=200,          \n",
        "                                    max_depth=20,              \n",
        "                                    min_samples_leaf=1,\n",
        "                                    min_samples_split=2,\n",
        "                                    random_state=42)\n",
        "\n",
        "mlp_model = MLPClassifier(hidden_layersizes=(100,), \n",
        "                          activation='relu',          \n",
        "                          solver='adam',             \n",
        "                          max_iter=300,              \n",
        "                          random_state=42)            \n"
      ]
    },
    {
      "cell_type": "code",
      "execution_count": 17,
      "id": "804bdc11",
      "metadata": {},
      "outputs": [],
      "source": [
        "base_models = [\n",
        "    ('LR', lr_model),\n",
        "    ('RF', rf_model),\n",
        "    ('MLP', mlp_model),\n",
        "]"
      ]
    },
    {
      "cell_type": "code",
      "execution_count": 18,
      "id": "aa78986e",
      "metadata": {},
      "outputs": [
        {
          "name": "stdout",
          "output_type": "stream",
          "text": [
            "\n",
            "Evaluación de LR\n"
          ]
        },
        {
          "data": {
            "image/png": "[encoded data removed]",
            "text/plain": [
              "<Figure size 900x700 with 1 Axes>"
            ]
          },
          "metadata": {},
          "output_type": "display_data"
        },
        {
          "name": "stdout",
          "output_type": "stream",
          "text": [
            "              precision    recall  f1-score   support\n",
            "\n",
            "           0     0.8685    0.8005    0.8331       396\n",
            "           1     0.5659    0.6821    0.6186       151\n",
            "\n",
            "    accuracy                         0.7678       547\n",
            "   macro avg     0.7172    0.7413    0.7259       547\n",
            "weighted avg     0.7850    0.7678    0.7739       547\n",
            "\n",
            "\n",
            "Evaluación de RF\n"
          ]
        },
        {
          "data": {
            "image/png": "[encoded data removed]",
            "text/plain": [
              "<Figure size 900x700 with 1 Axes>"
            ]
          },
          "metadata": {},
          "output_type": "display_data"
        },
        {
          "name": "stdout",
          "output_type": "stream",
          "text": [
            "              precision    recall  f1-score   support\n",
            "\n",
            "           0     0.9776    0.9924    0.9850       396\n",
            "           1     0.9793    0.9404    0.9595       151\n",
            "\n",
            "    accuracy                         0.9781       547\n",
            "   macro avg     0.9785    0.9664    0.9722       547\n",
            "weighted avg     0.9781    0.9781    0.9779       547\n",
            "\n",
            "\n",
            "Evaluación de MLP\n"
          ]
        },
        {
          "name": "stderr",
          "output_type": "stream",
          "text": [
            "c:\\Users\\david\\AppData\\Local\\Programs\\Python\\Python310\\lib\\site-packages\\sklearn\\neural_network\\_multilayer_perceptron.py:691: ConvergenceWarning: Stochastic Optimizer: Maximum iterations (300) reached and the optimization hasn't converged yet.\n",
            "  warnings.warn(\n"
          ]
        },
        {
          "data": {
            "image/png": "[encoded data removed]",
            "text/plain": [
              "<Figure size 900x700 with 1 Axes>"
            ]
          },
          "metadata": {},
          "output_type": "display_data"
        },
        {
          "name": "stdout",
          "output_type": "stream",
          "text": [
            "              precision    recall  f1-score   support\n",
            "\n",
            "           0     0.9773    0.9773    0.9773       396\n",
            "           1     0.9404    0.9404    0.9404       151\n",
            "\n",
            "    accuracy                         0.9671       547\n",
            "   macro avg     0.9588    0.9588    0.9588       547\n",
            "weighted avg     0.9671    0.9671    0.9671       547\n",
            "\n"
          ]
        }
      ],
      "source": [
        "for name, model in base_models:\n",
        "    print(f\"\\nEvaluación de {name}\")\n",
        "    model.fit(X_train, y_train)\n",
        "    \n",
        "    evaluate_model(name, model, X_test, y_test)"
      ]
    },
    {
      "cell_type": "code",
      "execution_count": null,
      "id": "a9f036b1",
      "metadata": {},
      "outputs": [
        {
          "data": {
            "text/plain": [
              "['mlp_model_vectorizer.pkl']"
            ]
          },
          "execution_count": 150,
          "metadata": {},
          "output_type": "execute_result"
        }
      ],
      "source": [
        "joblib.dump(rf_model, 'rf_model.pkl')\n",
        "joblib.dump(mlp_model, 'mlp_model.pkl')\n",
        "joblib.dump(vectorizer, 'vectorizer.pkl')"
      ]
    }
  ],
  "metadata": {
    "kernelspec": {
      "display_name": "Python 3",
      "language": "python",
      "name": "python3"
    },
    "language_info": {
      "codemirror_mode": {
        "name": "ipython",
        "version": 3
      },
      "file_extension": ".py",
      "mimetype": "text/x-python",
      "name": "python",
      "nbconvert_exporter": "python",
      "pygments_lexer": "ipython3",
      "version": "3.13.3"
    }
  },
  "nbformat": 4,
  "nbformat_minor": 5
}
