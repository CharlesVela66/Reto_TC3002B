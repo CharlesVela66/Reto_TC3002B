{
  "cells": [
    {
      "cell_type": "markdown",
      "id": "b95bc34f",
      "metadata": {},
      "source": [
        "# Detector de plagio en código fuente (archivos .java)\n",
        "Este notebook presenta el desarrollo de un modelo para detectar plagio en archivos de código fuente escritos en Java. Se utiliza el dataset \"conplag\", ubicado en   `dataset/versions/b_plag_version_2`, el cual contiene carpetas con archivos originales y versiones plagiadas.\n",
        "\n",
        "## Objetivo\n",
        "Desarrollar una herramienta híbrida automatizada que detecte plagio en código fuente, combinando análisis léxico (tokenización) y técnicas de aprendizaje automático. El objetivo es alcanzar una precisión superior al 80% en la clasificación de código como plagiado o no plagiado."
      ]
    },
    {
      "cell_type": "markdown",
      "id": "b1ee15c5",
      "metadata": {},
      "source": [
        "## Importación de librerías\n",
        "Se importan las librerías necesarias para el procesamiento de archivos, tokenización de código Java, manipulación de datos y desarrollo del modelo de machine learning"
      ]
    },
    {
      "cell_type": "code",
<<<<<<< HEAD
      "execution_count": 89,
=======
      "execution_count": 1,
>>>>>>> 320e405 (validation)
      "id": "9eb6c7c8",
      "metadata": {},
      "outputs": [],
      "source": [
        "import os\n",
        "import random\n",
        "from pathlib import Path\n",
        "import pandas as pd\n",
        "import numpy as np\n",
        "import matplotlib.pyplot as plt\n",
        "import seaborn as sns\n",
        "import joblib\n",
        "\n",
        "\n",
        "from pygments import lex\n",
        "from pygments.lexers import JavaLexer\n",
        "from pygments.token import Token\n",
        "\n",
        "from sklearn.feature_extraction.text import TfidfVectorizer\n",
        "from imblearn.over_sampling import SMOTE\n",
        "\n",
        "from sklearn.model_selection import train_test_split\n",
        "\n",
        "from sklearn.metrics import classification_report, confusion_matrix\n",
        "from sklearn.ensemble import RandomForestClassifier\n",
        "from sklearn.linear_model import LogisticRegression\n",
        "from sklearn.neural_network import MLPClassifier"
      ]
    },
    {
      "cell_type": "markdown",
      "id": "00fd81c2",
      "metadata": {},
      "source": [
        "## Definición de rutas\n",
        "Se definen las rutas base para acceder al dataset y a los archivos de etiquetas"
      ]
    },
    {
      "cell_type": "code",
<<<<<<< HEAD
      "execution_count": 90,
=======
      "execution_count": 2,
>>>>>>> 320e405 (validation)
      "id": "20022a95",
      "metadata": {},
      "outputs": [],
      "source": [
        "ROOT = Path().cwd().parent\n",
        "BASE_PATH = ROOT / \"dataset\" / \"versions\" / \"bplag_version_2\"\n",
        "LABELS_PATH = ROOT / \"dataset\" / \"versions\" / \"labels.csv\""
      ]
    },
    {
      "cell_type": "markdown",
      "id": "2ec18c12",
      "metadata": {},
      "source": [
        "## Lectura de archivos .java\n",
        "La función read_java_files() se encarga de recorrer recursivamente la estructura del dataset y leer el contenido de todos los archivos .java. Devuelve una lista con los identificadores de cada entrega y su respectivo código fuente."
      ]
    },
    {
      "cell_type": "code",
<<<<<<< HEAD
      "execution_count": 91,
=======
      "execution_count": 3,
>>>>>>> 320e405 (validation)
      "id": "ed95e47a",
      "metadata": {},
      "outputs": [],
      "source": [
        "def read_java_files(base_path):\n",
        "    \"\"\"\n",
        "    Recursively reads all .java files from the given base path.\n",
        "    \n",
        "    Args:\n",
        "        base_path (str): Path to the base directory containing submission pairs.\n",
        "    \n",
        "    Returns:\n",
        "        data (list): List of tuples (submission_id, code_content).\n",
        "    \"\"\"\n",
        "    data = []\n",
        "    \n",
        "    for submission_pair in os.listdir(base_path):\n",
        "        pair_path = os.path.join(base_path, submission_pair)\n",
        "        \n",
        "        if os.path.isdir(pair_path):\n",
        "            for submission_id in os.listdir(pair_path):\n",
        "                submission_path = os.path.join(pair_path, submission_id)\n",
        "                \n",
        "                if os.path.isdir(submission_path):\n",
        "                    for file in os.listdir(submission_path):\n",
        "                        if file.endswith('.java'):\n",
        "                            file_path = os.path.join(submission_path, file)\n",
        "                            with open(file_path, 'r', encoding='utf-8') as f:\n",
        "                                code = f.read()\n",
        "                                data.append((submission_id, code))\n",
        "    \n",
        "    return data"
      ]
    },
    {
      "cell_type": "code",
<<<<<<< HEAD
      "execution_count": 92,
=======
      "execution_count": 4,
>>>>>>> 320e405 (validation)
      "id": "bbcf8253",
      "metadata": {},
      "outputs": [
        {
          "name": "stdout",
          "output_type": "stream",
          "text": [
            "Total submissions loaded: 1822\n",
            "\n",
            "First 2 submissions loaded:\n",
            "Submission ID: 5756162d\n",
            "Code snippet:\n",
            "import java.util.*;\n",
            "import java.io.*;\n",
            "public class EdD {\n",
            "\tpublic static void main(String[] args) throws Exception{\n",
            "\t\tint num = 998244353;\n",
            "\n",
            "\t\t// TODO Auto-generated method stub\n",
            " \t\tBufferedReader bf = new BufferedReader(new InputStreamReader(System.in));\n",
            " \t\tPrintWriter out = new PrintWriter(System.out...\n",
            "\n",
            "Submission ID: 808f7516\n",
            "Code snippet:\n",
            "import java.io.*;\n",
            "import java.math.BigInteger;\n",
            "import java.util.*;\n",
            "\n",
            "public class Main {\n",
            "    static int MOD = 1000000007;\n",
            "\n",
            "    // After writing solution, quick scan for:\n",
            "    //   array out of bounds\n",
            "    //   special cases e.g. n=1?\n",
            "    //\n",
            "    // Big numbers arithmetic bugs:\n",
            "    //   int overflow\n",
            "    ...\n",
            "\n"
          ]
        }
      ],
      "source": [
        "java_files_data = read_java_files(BASE_PATH)\n",
        "\n",
        "print(f\"Total submissions loaded: {len(java_files_data)}\")\n",
        "print(\"\\nFirst 2 submissions loaded:\")\n",
        "for submission_id, code in java_files_data[:2]:\n",
        "    print(f\"Submission ID: {submission_id}\\nCode snippet:\\n{code[:300]}...\\n\")"
      ]
    },
    {
      "cell_type": "markdown",
      "id": "26774854",
      "metadata": {},
      "source": [
        "## Extracción de tokens\n",
        "\n",
        "Para esta sección se utiliza la librería Pygments como analizador léxico. Esta librería permite extraer los tokens de un código fuente y clasificarlos en diferentes categorías. En este caso, se utilizará para extraer los tokens de código fuente en Java."
      ]
    },
    {
      "cell_type": "code",
<<<<<<< HEAD
      "execution_count": 93,
=======
      "execution_count": 5,
>>>>>>> 320e405 (validation)
      "id": "b981f462",
      "metadata": {},
      "outputs": [],
      "source": [
        "def extract_tokens(code):\n",
        "    \"\"\"\n",
        "    Extracts tokens from the given Java code using Pygments.\n",
        "    \n",
        "    Args:\n",
        "        code (str): Java code as a string.\n",
        "        \n",
        "    Returns:\n",
        "        tokens (list): List of tokens extracted from the code.\n",
        "    \"\"\"\n",
        "    lexer = JavaLexer()\n",
        "    tokens = []\n",
        "    for ttype, value in lex(code, lexer):\n",
        "        if ttype in Token.Name or ttype in Token.Keyword or ttype in Token.Operator:\n",
        "            val = value.strip()\n",
        "            if val:\n",
        "                tokens.append(f\"{ttype.__class__.__name__}:{val}\")\n",
        "    return \" \".join(tokens)"
      ]
    },
    {
      "cell_type": "markdown",
      "id": "d12ecfda",
      "metadata": {},
      "source": [
        "## Preparación de los datos y etiquetas\n",
        "Se cargan las etiquetas desde el archivo labels.csv y se construye un diccionario para acceder fácilmente al veredicto (si un archivo es plagio o no) entre pares de entregas.\n",
        "\n",
        "Luego, se recorren los datos de código Java en pares, extrayendo los tokens de cada archivo y concatenándolos como una sola representación textual del par. \n",
        "\n",
        "Paralelamente, se asigna la etiqueta correspondiente (plagiado o no) a cada par utilizando el diccionario previamente generado.\n",
        "\n",
        "Este proceso genera dos listas:\n",
        "\n",
        "- token_pairs: Representación textual de los pares de código.\n",
        "\n",
        "- labels: Etiquetas binarias que indican si el par es plagiado."
      ]
    },
    {
      "cell_type": "code",
<<<<<<< HEAD
      "execution_count": 94,
=======
      "execution_count": 6,
>>>>>>> 320e405 (validation)
      "id": "58bd1fbe",
      "metadata": {},
      "outputs": [],
      "source": [
        "labels_df = pd.read_csv(LABELS_PATH)\n",
        "\n",
        "labels_dict = {}\n",
        "for _, row in labels_df.iterrows():\n",
        "    key = (row['sub1'], row['sub2'])\n",
        "    labels_dict[key] = row['verdict']\n",
        "\n",
        "token_pairs = []\n",
        "labels = []\n",
        "\n",
        "for i in range(0, len(java_files_data), 2):\n",
        "    try:\n",
        "        id1, code1 = java_files_data[i]\n",
        "        id2, code2 = java_files_data[i+1]\n",
        "    except IndexError:\n",
        "        break\n",
        "        \n",
        "    t1 = extract_tokens(code1)\n",
        "    t2 = extract_tokens(code2)\n",
        "    token_pairs.append(f\"{t1} {t2}\")\n",
        "    \n",
        "    if (id1, id2) in labels_dict:\n",
        "        labels.append(labels_dict[(id1, id2)])\n",
        "    elif (id2, id1) in labels_dict:\n",
        "        labels.append(labels_dict[(id2, id1)])\n",
        "    else:\n",
        "        print(f\"Warning: No label found for pair ({id1}, {id2})\")\n",
        "        labels.append(0) \n",
        "        "
      ]
    },
    {
      "cell_type": "markdown",
      "id": "39a738c2",
      "metadata": {},
      "source": [
        "## Data Augmentation\n",
        "\n",
        "Debido a que nuestro dataset original contenía menos de 1000 pares de código, el modelo tenía una exposición limitada a ejemplos variados, lo que afectaba negativamente su capacidad de generalización y su rendimiento predictivo. Para mitigar este problema, implementamos una estrategia de aumento de datos que multiplicó el tamaño del conjunto original por 3 veces.\n",
        "\n",
        "La función augment_token_sequence() permite generar nuevas versiones sintéticas de los pares de tokens aplicando pequeñas modificaciones controladas, lo que introduce variabilidad sin alterar significativamente la lógica del código original. Estas son las técnicas utilizadas:\n",
        "\n",
        "- Shuffle: Mezcla aleatoriamente grupos de tokens dentro de una ventana, simulando cambios menores en el orden del código que pueden aparecer en plagios.\n",
        "\n",
        "- Drop: Elimina tokens no críticos de forma aleatoria, simulando la omisión intencional de fragmentos para disimular el plagio.\n",
        "\n",
        "- Duplicate: Duplica tokens aleatoriamente para emular redundancias introducidas deliberadamente por quien plagia.\n",
        "\n",
        "- Synonym: Sustituye variables por sinónimos simulados (e.g., i por index), representando un cambio común en plagios superficiales.\n",
        "\n",
        "Estas transformaciones ayudan a enriquecer el entrenamiento del modelo, exponiéndolo a variaciones más realistas en los datos y mejorando su capacidad para identificar plagio con mayor precisión.\n",
        "\n",
        "La función generate_augmented_pairs() une los nuevos pares de tokens generados por la aumentación y les asigna las etiquetas correspondientes."
      ]
    },
    {
      "cell_type": "code",
<<<<<<< HEAD
      "execution_count": 95,
=======
      "execution_count": 7,
>>>>>>> 320e405 (validation)
      "id": "037f4ca4",
      "metadata": {},
      "outputs": [],
      "source": [
        "def augment_token_sequence(tokens, augmentation_method='shuffle', ratio=0.1):\n",
        "    \"\"\"\n",
        "    Augments a token sequence using various methods.\n",
        "    \n",
        "    Args:\n",
        "        tokens (str): The token sequence string to be augmented.\n",
        "        augmentation_method (str): The method to use for augmentation.\n",
        "            'shuffle': Randomly shuffles some tokens within a window.\n",
        "            'drop': Randomly drops some tokens.\n",
        "            'duplicate': Duplicates some tokens.\n",
        "            'synonym': Replaces some tokens with synonyms (simulated).\n",
        "        ratio (float): The percentage of tokens to modify (0.0 to 1.0).\n",
        "    \n",
        "    Returns:\n",
        "        str: The augmented token sequence as a string.\n",
        "    \"\"\"\n",
        "    token_list = tokens.split()\n",
        "    total_tokens = len(token_list)\n",
        "    num_to_modify = max(1, int(total_tokens * ratio))\n",
        "    \n",
        "    augmented_tokens = token_list.copy()\n",
        "    \n",
        "    if augmentation_method == 'shuffle':\n",
        "        for _ in range(num_to_modify // 2): \n",
        "            window_size = random.randint(2, 4) \n",
        "            if total_tokens <= window_size:\n",
        "                continue\n",
        "                \n",
        "            start_idx = random.randint(0, total_tokens - window_size)\n",
        "            window = augmented_tokens[start_idx:start_idx + window_size]\n",
        "            random.shuffle(window)\n",
        "            augmented_tokens[start_idx:start_idx + window_size] = window\n",
        "    \n",
        "    elif augmentation_method == 'drop':\n",
        "        critical_tokens = ['_TokenType:public', '_TokenType:class', '_TokenType:import', '_TokenType:static', '_TokenType:void', '_TokenType:main']\n",
        "        indices_to_drop = []\n",
        "        \n",
        "        for _ in range(num_to_modify):\n",
        "            valid_indices = [i for i, token in enumerate(augmented_tokens) \n",
        "                            if token not in critical_tokens and i not in indices_to_drop]\n",
        "            if not valid_indices:\n",
        "                break\n",
        "            idx = random.choice(valid_indices)\n",
        "            indices_to_drop.append(idx)\n",
        "        \n",
        "        augmented_tokens = [token for i, token in enumerate(augmented_tokens) if i not in indices_to_drop]\n",
        "    \n",
        "    elif augmentation_method == 'duplicate':\n",
        "        for _ in range(num_to_modify):\n",
        "            if not augmented_tokens:\n",
        "                break\n",
        "            idx = random.randint(0, len(augmented_tokens) - 1)\n",
        "            augmented_tokens.insert(idx, augmented_tokens[idx])\n",
        "    \n",
        "    elif augmentation_method == 'synonym':\n",
        "        variable_prefixes = ['_TokenType:i', '_TokenType:j', '_TokenType:k', '_TokenType:n', '_TokenType:m', '_TokenType:x', '_TokenType:y']\n",
        "        synonym_mapping = {\n",
        "            '_TokenType:i': ['_TokenType:idx', '_TokenType:index', '_TokenType:i'],\n",
        "            '_TokenType:j': ['_TokenType:jdx', '_TokenType:j'],\n",
        "            '_TokenType:k': ['_TokenType:kdx', '_TokenType:key', '_TokenType:k'],\n",
        "            '_TokenType:n': ['_TokenType:num', '_TokenType:size', '_TokenType:n'],\n",
        "            '_TokenType:m': ['_TokenType:max', '_TokenType:m'],\n",
        "            '_TokenType:x': ['_TokenType:xVal', '_TokenType:x'],\n",
        "            '_TokenType:y': ['_TokenType:yVal', '_TokenType:y']\n",
        "        }\n",
        "        \n",
        "        for _ in range(num_to_modify):\n",
        "            variable_indices = [i for i, token in enumerate(augmented_tokens) \n",
        "                               if any(token.startswith(prefix) for prefix in variable_prefixes)]\n",
        "            if not variable_indices:\n",
        "                break\n",
        "                \n",
        "            idx = random.choice(variable_indices)\n",
        "            token = augmented_tokens[idx]\n",
        "            \n",
        "            matching_prefix = next((prefix for prefix in variable_prefixes if token.startswith(prefix)), None)\n",
        "            if matching_prefix and matching_prefix in synonym_mapping:\n",
        "                augmented_tokens[idx] = random.choice(synonym_mapping[matching_prefix])\n",
        "    \n",
        "    return ' '.join(augmented_tokens)"
      ]
    },
    {
      "cell_type": "code",
<<<<<<< HEAD
      "execution_count": 96,
=======
      "execution_count": 8,
>>>>>>> 320e405 (validation)
      "id": "94c18ae1",
      "metadata": {},
      "outputs": [],
      "source": [
        "def generate_augmented_pairs(token_pairs, labels, augmentation_factor=2):\n",
        "    \"\"\"\n",
        "    Generates augmented token pairs and corresponding labels.\n",
        "    \n",
        "    Args:\n",
        "        token_pairs (list): Original token pairs.\n",
        "        labels (list): Original labels.\n",
        "        augmentation_factor (int): Number of augmentations per original sample.\n",
        "        \n",
        "    Returns:\n",
        "        tuple: (augmented_pairs, augmented_labels)\n",
        "    \"\"\"\n",
        "    augmentation_methods = ['shuffle', 'drop', 'duplicate', 'synonym']\n",
        "    augmented_pairs = []\n",
        "    augmented_labels = []\n",
        "    \n",
        "    for pair, label in zip(token_pairs, labels):\n",
        "        augmented_pairs.append(pair)\n",
        "        augmented_labels.append(label)\n",
        "        \n",
        "        parts = pair.split(' ', 1)\n",
        "        if len(parts) < 2:\n",
        "            continue  \n",
        "        \n",
        "        token_seq1, token_seq2 = parts\n",
        "        \n",
        "        for _ in range(augmentation_factor):\n",
        "            method1 = random.choice(augmentation_methods)\n",
        "            method2 = random.choice(augmentation_methods)\n",
        "            \n",
        "            aug_seq1 = augment_token_sequence(token_seq1, method1, ratio=0.1)\n",
        "            aug_seq2 = augment_token_sequence(token_seq2, method2, ratio=0.1)\n",
        "            \n",
        "            augmented_pair = f\"{aug_seq1} {aug_seq2}\"\n",
        "            \n",
        "            augmented_pairs.append(augmented_pair)\n",
        "            augmented_labels.append(label)\n",
        "    \n",
        "    return augmented_pairs, augmented_labels"
      ]
    },
    {
      "cell_type": "code",
<<<<<<< HEAD
      "execution_count": 97,
=======
      "execution_count": 9,
>>>>>>> 320e405 (validation)
      "id": "66fc83ec",
      "metadata": {},
      "outputs": [
        {
          "name": "stdout",
          "output_type": "stream",
          "text": [
            "Original dataset size: 911\n",
            "Augmented dataset size: 2733\n",
            "\n",
            "Original class distribution:\n",
            "Label 0: 660 samples (72.45%)\n",
            "Label 1: 251 samples (27.55%)\n",
            "\n",
            "Augmented class distribution:\n",
            "Label 0: 1980 samples (72.45%)\n",
            "Label 1: 753 samples (27.55%)\n",
            "Augmented dataset size: 2733\n",
            "\n",
            "Original class distribution:\n",
            "Label 0: 660 samples (72.45%)\n",
            "Label 1: 251 samples (27.55%)\n",
            "\n",
            "Augmented class distribution:\n",
            "Label 0: 1980 samples (72.45%)\n",
            "Label 1: 753 samples (27.55%)\n"
          ]
        }
      ],
      "source": [
        "print(f\"Original dataset size: {len(token_pairs)}\")\n",
        "augmented_token_pairs, augmented_labels = generate_augmented_pairs(token_pairs, labels, augmentation_factor=2)\n",
        "print(f\"Augmented dataset size: {len(augmented_token_pairs)}\")\n",
        "\n",
        "original_unique, original_counts = np.unique(labels, return_counts=True)\n",
        "augmented_unique, augmented_counts = np.unique(augmented_labels, return_counts=True)\n",
        "\n",
        "print(f\"\\nOriginal class distribution:\")\n",
        "for label, count in zip(original_unique, original_counts):\n",
        "    print(f\"Label {label}: {count} samples ({count/len(labels)*100:.2f}%)\")\n",
        "\n",
        "print(f\"\\nAugmented class distribution:\")\n",
        "for label, count in zip(augmented_unique, augmented_counts):\n",
        "    print(f\"Label {label}: {count} samples ({count/len(augmented_labels)*100:.2f}%)\")"
      ]
    },
    {
      "cell_type": "markdown",
      "id": "c5f33bd6",
      "metadata": {},
      "source": [
        "## Vectorización de Datos\n",
        "Una vez generadas las secuencias de tokens (originales y aumentadas), el siguiente paso es transformar estos textos en representaciones numéricas que puedan ser utilizadas por algoritmos de aprendizaje automático. Para ello, empleamos la técnica TF-IDF (Term Frequency–Inverse Document Frequency), que asigna pesos a cada token en función de su frecuencia en un documento.\n",
        "\n",
        "La función vectorize() se encarga de convertir los pares de tokens en una matriz dispersa, donde cada fila representa una instancia y cada columna una característica (token). Esta representación es fundamental para que el modelo pueda aprender patrones a partir del contenido del código fuente.\n",
        "\n",
        "En esta etapa se utilizó el conjunto de datos aumentado para asegurar una mejor cobertura léxica durante el proceso de vectorización."
      ]
    },
    {
      "cell_type": "code",
<<<<<<< HEAD
      "execution_count": 98,
=======
      "execution_count": 10,
>>>>>>> 320e405 (validation)
      "id": "e75ae232",
      "metadata": {},
      "outputs": [],
      "source": [
        "def vectorize(token_pairs):\n",
        "    \"\"\"\n",
        "    Vectorizes the given token pairs using TF-IDF.\n",
        "    \n",
        "    Args:\n",
        "        token_pairs (list): List of tokens to be vectorized.\n",
        "    \n",
        "    Returns:\n",
        "        vectorizer (TfidfVectorizer): Fitted TF-IDF vectorizer.\n",
        "        X (sparse matrix): TF-IDF matrix of the token pairs.\n",
        "    \"\"\"\n",
        "    vectorizer = TfidfVectorizer()\n",
        "    X = vectorizer.fit_transform(token_pairs)\n",
        "    return vectorizer, X"
      ]
    },
    {
      "cell_type": "code",
<<<<<<< HEAD
      "execution_count": 99,
=======
      "execution_count": 11,
>>>>>>> 320e405 (validation)
      "id": "00082e8d",
      "metadata": {},
      "outputs": [],
      "source": [
        "vectorizer, X = vectorize(augmented_token_pairs)\n",
        "Y = augmented_labels"
      ]
    },
    {
      "cell_type": "code",
<<<<<<< HEAD
      "execution_count": 100,
=======
      "execution_count": 12,
>>>>>>> 320e405 (validation)
      "id": "98481ef1",
      "metadata": {},
      "outputs": [
        {
          "name": "stdout",
          "output_type": "stream",
          "text": [
            "X shape: (2733, 2460)\n"
          ]
        }
      ],
      "source": [
        "print(f\"X shape: {X.shape}\")"
      ]
    },
    {
      "cell_type": "markdown",
      "id": "da83cb61",
      "metadata": {},
      "source": [
        "## Separación del Conjunto de Datos y Balanceo de Clases\n",
        "Antes de entrenar el modelo, se transformó la matriz TF-IDF dispersa a una representación densa (X_dense) para su uso en ciertos algoritmos que no aceptan matrices dispersas.\n",
        "\n",
        "Posteriormente, el conjunto de datos fue dividido en entrenamiento y prueba utilizando muestreo estratificado, lo cual garantiza que la distribución de clases (por ejemplo, plagio vs. no plagio) se mantenga proporcional en ambos subconjuntos. Esto es crucial cuando se trabaja con clases desbalanceadas.\n",
        "\n",
        "A pesar de esto, el conjunto de entrenamiento seguía mostrando un desbalance significativo, por lo que se aplicó SMOTE (Synthetic Minority Over-sampling Technique). Esta técnica genera ejemplos sintéticos de la clase minoritaria a partir de instancias existentes, incrementando así su representación sin necesidad de duplicar ejemplos reales. El resultado fue un conjunto de entrenamiento balanceado, lo cual mejora la capacidad del modelo para aprender correctamente ambas clases."
      ]
    },
    {
      "cell_type": "code",
<<<<<<< HEAD
      "execution_count": 101,
=======
      "execution_count": 13,
>>>>>>> 320e405 (validation)
      "id": "016412c0",
      "metadata": {},
      "outputs": [],
      "source": [
        "X_dense = X.toarray()\n",
        "\n",
        "X_train, X_test, y_train, y_test = train_test_split(\n",
        "    X_dense, Y, test_size=0.2, random_state=42, stratify=Y)"
      ]
    },
    {
      "cell_type": "code",
<<<<<<< HEAD
      "execution_count": 102,
=======
      "execution_count": 14,
>>>>>>> 320e405 (validation)
      "id": "3d20b5a8",
      "metadata": {},
      "outputs": [
        {
          "name": "stdout",
          "output_type": "stream",
          "text": [
            "Training set class distribution:\n",
            "Label 0: 1584 samples (72.46%)\n",
            "Label 1: 602 samples (27.54%)\n",
            "\n",
            "Resampled training set class distribution:\n",
            "Label 0: 1584 samples (50.00%)\n",
            "Label 1: 1584 samples (50.00%)\n"
          ]
        }
      ],
      "source": [
        "unique, counts = np.unique(y_train, return_counts=True)\n",
        "print(f\"Training set class distribution:\")\n",
        "for label, count in zip(unique, counts):\n",
        "    print(f\"Label {label}: {count} samples ({count/len(y_train)*100:.2f}%)\")\n",
        "\n",
        "smote = SMOTE(random_state=42)\n",
        "X_train_resampled, y_train_resampled = smote.fit_resample(X_train, y_train)\n",
        "\n",
        "unique, counts = np.unique(y_train_resampled, return_counts=True)\n",
        "print(f\"\\nResampled training set class distribution:\")\n",
        "for label, count in zip(unique, counts):\n",
        "    print(f\"Label {label}: {count} samples ({count/len(y_train_resampled)*100:.2f}%)\")"
      ]
    },
    {
      "cell_type": "markdown",
      "id": "28d9b773",
      "metadata": {},
      "source": [
        "## Función  para evaluar el modelo\n",
        "Declaración de la función evaluate_model para evaluar al modelo una vez terminado el entrenamiento para ver su capacidad predictiva con datos que no fueron vistos durante el entrenamiento. Al terminar la evaluación obtenemos las métricas (precision, recall, f1 y accuracy) para determinar el ajuste y rendimiento del modelo."
      ]
    },
    {
      "cell_type": "code",
<<<<<<< HEAD
      "execution_count": 103,
=======
      "execution_count": 15,
>>>>>>> 320e405 (validation)
      "id": "d1405f2f",
      "metadata": {},
      "outputs": [],
      "source": [
        "def evaluate_model(name, model, X_test, y_test):\n",
        "    \"\"\"\n",
        "    Evaluates model performance and returns metrics.\n",
        "    \n",
        "    Args:\n",
        "        name (str): Model name for display purposes.\n",
        "        model: Trained model to evaluate.\n",
        "        X_test: Test features.\n",
        "        y_test: True labels.\n",
        "        \n",
        "    Returns:\n",
        "        dict: Dictionary with accuracy, precision, recall, and f1 metrics.\n",
        "    \"\"\"\n",
        "    \n",
        "    y_pred = model.predict(X_test)\n",
        "\n",
        "    cm = confusion_matrix(y_test, y_pred)\n",
        "\n",
        "    plt.figure(figsize=(9, 7))\n",
        "    sns.heatmap(cm, annot=True, fmt='d', cmap='Blues', cbar=False, square=True,\n",
        "                xticklabels=np.unique(y_test), yticklabels=np.unique(y_test))\n",
        "    plt.xlabel('Predicted')\n",
        "    plt.ylabel('True')\n",
        "    plt.title(f'Confusion Matrix | {name}')\n",
        "    plt.show()\n",
        "    \n",
        "    print(classification_report(y_test, y_pred, digits=4))\n"
      ]
    },
    {
      "cell_type": "markdown",
      "id": "6b9558a2",
      "metadata": {},
      "source": [
        "## Definición del modelo y entrenamiento\n",
        "Para encontrar la mejor arquitectura que se adecúe a la problemática, hemos decidido utilizar tres arquitecturas diferentes con el fin de comparar sus métricas y así tener la suficiente información como para tomar una decisión basada en los datos. Para identificar el modelo más adecuado al problema de detección de plagio, se entrenaron y compararon los siguientes clasificadores:\n",
        "\n",
        "- Logistic Regression (LR): Modelo lineal utilizado para clasificación binaria. Calcula la probabilidad de pertenencia a una clase usando la función sigmoide. Es sencillo, rápido y efectivo para problemas linealmente separables.\n",
        "\n",
        "- Random Forest (RF): Ensamble de múltiples árboles de decisión entrenados sobre diferentes subconjuntos del conjunto de datos. Es robusto, reduce el sobreajuste y suele ofrecer un buen rendimiento general en tareas de clasificación.\n",
        "\n",
        "- Multi-layer Perceptron (MLP): Red neuronal completamente conectada con al menos una capa oculta. Puede modelar relaciones no lineales complejas entre características y clases. En este caso, se utiliza una arquitectura básica con una sola capa oculta de 100 neuronas y función de activación ReLU."
      ]
    },
    {
      "cell_type": "code",
<<<<<<< HEAD
      "execution_count": 104,
=======
      "execution_count": 16,
>>>>>>> 320e405 (validation)
      "id": "76462cff",
      "metadata": {},
      "outputs": [],
      "source": [
        "lr_model = LogisticRegression()\n",
        "\n",
        "rf_model = RandomForestClassifier()\n",
        "\n",
        "mlp_model = MLPClassifier(hidden_layer_sizes=(100,), \n",
        "                          activation='relu',          \n",
        "                          solver='adam',             \n",
        "                          max_iter=300,              \n",
        "                          random_state=42)            \n"
      ]
    },
    {
      "cell_type": "code",
<<<<<<< HEAD
      "execution_count": 105,
=======
      "execution_count": 17,
>>>>>>> 320e405 (validation)
      "id": "804bdc11",
      "metadata": {},
      "outputs": [],
      "source": [
        "base_models = [\n",
        "    ('LR', lr_model),\n",
        "    ('RF', rf_model),\n",
        "    ('MLP', mlp_model),\n",
        "]"
      ]
    },
    {
      "cell_type": "code",
<<<<<<< HEAD
      "execution_count": 106,
=======
      "execution_count": 18,
>>>>>>> 320e405 (validation)
      "id": "aa78986e",
      "metadata": {},
      "outputs": [
        {
          "name": "stdout",
          "output_type": "stream",
          "text": [
            "\n",
            "Evaluación de LR\n"
          ]
        },
        {
          "data": {
<<<<<<< HEAD
            "image/png": "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",
=======
            "image/png": "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",
>>>>>>> 320e405 (validation)
            "text/plain": [
              "<Figure size 900x700 with 1 Axes>"
            ]
          },
          "metadata": {},
          "output_type": "display_data"
        },
        {
          "name": "stdout",
          "output_type": "stream",
          "text": [
            "              precision    recall  f1-score   support\n",
            "\n",
<<<<<<< HEAD
            "           0     0.8693    0.8737    0.8715       396\n",
            "           1     0.6644    0.6556    0.6600       151\n",
            "\n",
            "    accuracy                         0.8135       547\n",
            "   macro avg     0.7669    0.7647    0.7658       547\n",
            "weighted avg     0.8128    0.8135    0.8131       547\n",
=======
            "           0       0.88      0.82      0.85       396\n",
            "           1       0.59      0.70      0.64       151\n",
            "\n",
            "    accuracy                           0.78       547\n",
            "   macro avg       0.73      0.76      0.74       547\n",
            "weighted avg       0.80      0.78      0.79       547\n",
>>>>>>> 320e405 (validation)
            "\n",
            "\n",
            "Evaluación de RF\n"
          ]
        },
        {
          "data": {
<<<<<<< HEAD
            "image/png": "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",
=======
            "image/png": "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",
>>>>>>> 320e405 (validation)
            "text/plain": [
              "<Figure size 900x700 with 1 Axes>"
            ]
          },
          "metadata": {},
          "output_type": "display_data"
        },
        {
          "name": "stdout",
          "output_type": "stream",
          "text": [
            "              precision    recall  f1-score   support\n",
            "\n",
<<<<<<< HEAD
            "           0     0.9776    0.9924    0.9850       396\n",
            "           1     0.9793    0.9404    0.9595       151\n",
            "\n",
            "    accuracy                         0.9781       547\n",
            "   macro avg     0.9785    0.9664    0.9722       547\n",
            "weighted avg     0.9781    0.9781    0.9779       547\n",
=======
            "           0       0.99      1.00      0.99       396\n",
            "           1       1.00      0.97      0.99       151\n",
            "\n",
            "    accuracy                           0.99       547\n",
            "   macro avg       0.99      0.99      0.99       547\n",
            "weighted avg       0.99      0.99      0.99       547\n",
>>>>>>> 320e405 (validation)
            "\n",
            "\n",
            "Evaluación de MLP\n"
          ]
        },
        {
          "name": "stderr",
          "output_type": "stream",
          "text": [
            "/Users/sebastianflores/miniconda3/lib/python3.12/site-packages/sklearn/neural_network/_multilayer_perceptron.py:691: ConvergenceWarning: Stochastic Optimizer: Maximum iterations (300) reached and the optimization hasn't converged yet.\n",
            "  warnings.warn(\n"
          ]
        },
        {
          "data": {
<<<<<<< HEAD
            "image/png": "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",
=======
            "image/png": "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",
>>>>>>> 320e405 (validation)
            "text/plain": [
              "<Figure size 900x700 with 1 Axes>"
            ]
          },
          "metadata": {},
          "output_type": "display_data"
        },
        {
          "name": "stdout",
          "output_type": "stream",
          "text": [
            "              precision    recall  f1-score   support\n",
            "\n",
<<<<<<< HEAD
            "           0     0.9871    0.9646    0.9757       396\n",
            "           1     0.9125    0.9669    0.9389       151\n",
            "\n",
            "    accuracy                         0.9653       547\n",
            "   macro avg     0.9498    0.9658    0.9573       547\n",
            "weighted avg     0.9665    0.9653    0.9656       547\n",
=======
            "           0       0.98      0.97      0.98       396\n",
            "           1       0.92      0.96      0.94       151\n",
            "\n",
            "    accuracy                           0.97       547\n",
            "   macro avg       0.95      0.96      0.96       547\n",
            "weighted avg       0.97      0.97      0.97       547\n",
>>>>>>> 320e405 (validation)
            "\n"
          ]
        }
      ],
      "source": [
        "for name, model in base_models:\n",
        "    print(f\"\\nEvaluación de {name}\")\n",
        "    model.fit(X_train_resampled, y_train_resampled)\n",
        "    \n",
        "    evaluate_model(name, model, X_test, y_test)"
      ]
    },
    {
      "cell_type": "code",
<<<<<<< HEAD
      "execution_count": 107,
=======
      "execution_count": 19,
>>>>>>> 320e405 (validation)
      "id": "a9f036b1",
      "metadata": {},
      "outputs": [
        {
          "data": {
            "text/plain": [
              "['rf_model.pkl']"
            ]
          },
<<<<<<< HEAD
          "execution_count": 107,
=======
          "execution_count": 19,
>>>>>>> 320e405 (validation)
          "metadata": {},
          "output_type": "execute_result"
        }
      ],
      "source": [
        "joblib.dump(rf_model, 'rf_model.pkl')"
      ]
    }
  ],
  "metadata": {
    "kernelspec": {
      "display_name": "base",
      "language": "python",
      "name": "python3"
    },
    "language_info": {
      "codemirror_mode": {
        "name": "ipython",
        "version": 3
      },
      "file_extension": ".py",
      "mimetype": "text/x-python",
      "name": "python",
      "nbconvert_exporter": "python",
      "pygments_lexer": "ipython3",
      "version": "3.12.9"
    },
    "vscode": {
      "interpreter": {
        "hash": "a2f8dd9a2b65164a0dd37b4e5739f150314b1e17efbbfa1422ea4f2e7b18b306"
      }
    }
  },
  "nbformat": 4,
  "nbformat_minor": 5
}
