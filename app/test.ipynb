{
 "cells": [
  {
   "cell_type": "code",
   "execution_count": 16,
   "metadata": {},
   "outputs": [],
   "source": [
    "import joblib\n",
    "from pygments.lexers import JavaLexer\n",
    "from pygments import lex\n",
    "from pygments.token import Token\n",
    "import sys\n",
    "import os"
   ]
  },
  {
   "cell_type": "code",
   "execution_count": 17,
   "metadata": {},
   "outputs": [],
   "source": [
    "def extract_tokens(code):\n",
    "    lexer = JavaLexer()\n",
    "    tokens = []\n",
    "    for ttype, value in lex(code, lexer):\n",
    "        if ttype in Token.Name or ttype in Token.Keyword or ttype in Token.Operator:\n",
    "            val = value.strip()\n",
    "            if val:\n",
    "                tokens.append(f\"{ttype.__class__.__name__}:{val}\")\n",
    "    return \" \".join(tokens)"
   ]
  },
  {
   "cell_type": "code",
   "execution_count": 18,
   "metadata": {},
   "outputs": [],
   "source": [
    "def predict_similarity(file1, file2, model_path='rf_model.pkl'):\n",
    "    \"\"\"\n",
    "    Predice la similitud entre dos archivos de código Java.\n",
    "\n",
    "    Args:\n",
    "        file1 (str): Ruta al primer archivo Java.\n",
    "        file2 (str): Ruta al segundo archivo Java.\n",
    "        model_path (str): Ruta al modelo entrenado.\n",
    "\n",
    "    Returns:\n",
    "        tuple: (score, is_similar)\n",
    "    \"\"\"\n",
    "    model = joblib.load(model_path)\n",
    "    vectorizer = joblib.load('rf_model_vectorizer.pkl')\n",
    "\n",
    "    with open(file1, 'r', encoding='utf-8') as f:\n",
    "        code1 = f.read()\n",
    "\n",
    "    with open(file2, 'r', encoding='utf-8') as f:\n",
    "        code2 = f.read()\n",
    "\n",
    "    t1 = extract_tokens(code1)\n",
    "    t2 = extract_tokens(code2)\n",
    "    token_pair = f\"{t1} {t2}\"\n",
    "\n",
    "    X = vectorizer.transform([token_pair])\n",
    "\n",
    "    # Predecir\n",
    "    if hasattr(model, 'predict_proba'):\n",
    "        proba = model.predict_proba(X.toarray())[0]\n",
    "        similarity_score = proba[1] if len(proba) > 1 else proba[0]\n",
    "\n",
    "    is_similar = similarity_score >= 0.7\n",
    "\n",
    "    return similarity_score, is_similar"
   ]
  },
  {
   "cell_type": "code",
   "execution_count": 21,
   "metadata": {},
   "outputs": [
    {
     "name": "stdout",
     "output_type": "stream",
     "text": [
      "Archivo 1: original.java\n",
      "Archivo 2: plagiarized.java\n",
      "0.5700\n",
      "False\n"
     ]
    }
   ],
   "source": [
    "file1 = \"original.java\"\n",
    "file2 = \"plagiarized.java\"\n",
    "\n",
    "model_path = 'rf_model.pkl'\n",
    "\n",
    "if not os.path.exists(file1):\n",
    "    print(f\"Error: El archivo {file1} no existe.\")\n",
    "    sys.exit(1)\n",
    "\n",
    "if not os.path.exists(file2):\n",
    "    print(f\"Error: El archivo {file2} no existe.\")\n",
    "    sys.exit(1)\n",
    "\n",
    "if not os.path.exists(model_path):\n",
    "    print(f\"Error: El modelo {model_path} no existe.\")\n",
    "    sys.exit(1)\n",
    "\n",
    "score, is_similar = predict_similarity(file1, file2, model_path)\n",
    "\n",
    "if score is not None:\n",
    "    print(f\"Archivo 1: {file1}\")\n",
    "    print(f\"Archivo 2: {file2}\")\n",
    "    print(f\"{score:.4f}\")\n",
    "    print(f\"{is_similar}\")"
   ]
  }
 ],
 "metadata": {
  "kernelspec": {
   "display_name": "base",
   "language": "python",
   "name": "python3"
  },
  "language_info": {
   "codemirror_mode": {
    "name": "ipython",
    "version": 3
   },
   "file_extension": ".py",
   "mimetype": "text/x-python",
   "name": "python",
   "nbconvert_exporter": "python",
   "pygments_lexer": "ipython3",
   "version": "3.12.9"
  },
  "orig_nbformat": 4,
  "vscode": {
   "interpreter": {
    "hash": "a2f8dd9a2b65164a0dd37b4e5739f150314b1e17efbbfa1422ea4f2e7b18b306"
   }
  }
 },
 "nbformat": 4,
 "nbformat_minor": 2
}
