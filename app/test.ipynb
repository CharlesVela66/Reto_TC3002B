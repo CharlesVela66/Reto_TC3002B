{
 "cells": [
  {
   "cell_type": "code",
   "execution_count": 21,
   "metadata": {},
   "outputs": [],
   "source": [
    "import joblib\n",
    "from pygments.lexers import JavaLexer\n",
    "from pygments import lex\n",
    "from pygments.token import Token\n",
    "import sys\n",
    "import os"
   ]
  },
  {
   "cell_type": "code",
   "execution_count": 22,
   "metadata": {},
   "outputs": [],
   "source": [
    "def extract_tokens(code):\n",
    "    lexer = JavaLexer()\n",
    "    tokens = []\n",
    "    for ttype, value in lex(code, lexer):\n",
    "        if ttype in Token.Name or ttype in Token.Keyword or ttype in Token.Operator:\n",
    "            val = value.strip()\n",
    "            if val:\n",
    "                tokens.append(f\"{ttype.__class__.__name__}:{val}\")\n",
    "    return \" \".join(tokens)"
   ]
  },
  {
   "cell_type": "code",
   "execution_count": null,
   "metadata": {},
   "outputs": [],
   "source": [
    "def predict_similarity(file1, file2, model_path='rf_model.pkl'):\n",
    "    \"\"\"\n",
    "    Predice la similitud entre dos archivos de código Java.\n",
    "\n",
    "    Args:\n",
    "        file1 (str): Ruta al primer archivo Java.\n",
    "        file2 (str): Ruta al segundo archivo Java.\n",
    "        model_path (str): Ruta al modelo entrenado.\n",
    "\n",
    "    Returns:\n",
    "        tuple: (score, is_similar)\n",
    "    \"\"\"\n",
    "    model = joblib.load(model_path)\n",
    "    vectorizer = joblib.load('rf_model_vectorizer.pkl')\n",
    "\n",
    "    with open(file1, 'r', encoding='utf-8') as f:\n",
    "        code1 = f.read()\n",
    "\n",
    "    with open(file2, 'r', encoding='utf-8') as f:\n",
    "        code2 = f.read()\n",
    "\n",
    "    t1 = extract_tokens(code1)\n",
    "    t2 = extract_tokens(code2)\n",
    "    token_pair = f\"{t1} {t2}\"\n",
    "\n",
    "    X = vectorizer.transform([token_pair])\n",
    "\n",
    "    # Predecir\n",
    "    if hasattr(model, 'predict_proba'):\n",
    "        proba = model.predict_proba(X.toarray())[0]\n",
    "        similarity_score = proba[1] if len(proba) > 1 else proba[0]\n",
    "\n",
    "    is_similar = similarity_score >= 0.7\n",
    "\n",
    "    return similarity_score, is_similar"
   ]
  },
  {
   "cell_type": "code",
   "execution_count": 24,
   "metadata": {},
   "outputs": [
    {
     "ename": "AttributeError",
     "evalue": "'MLPClassifier' object has no attribute 'transform'",
     "output_type": "error",
     "traceback": [
      "\u001b[31m---------------------------------------------------------------------------\u001b[39m",
      "\u001b[31mAttributeError\u001b[39m                            Traceback (most recent call last)",
      "\u001b[36mCell\u001b[39m\u001b[36m \u001b[39m\u001b[32mIn[24]\u001b[39m\u001b[32m, line 18\u001b[39m\n\u001b[32m     15\u001b[39m     \u001b[38;5;28mprint\u001b[39m(\u001b[33mf\u001b[39m\u001b[33m\"\u001b[39m\u001b[33mError: El modelo \u001b[39m\u001b[38;5;132;01m{\u001b[39;00mmodel_path\u001b[38;5;132;01m}\u001b[39;00m\u001b[33m no existe.\u001b[39m\u001b[33m\"\u001b[39m)\n\u001b[32m     16\u001b[39m     sys.exit(\u001b[32m1\u001b[39m)\n\u001b[32m---> \u001b[39m\u001b[32m18\u001b[39m score, is_similar = \u001b[43mpredict_similarity\u001b[49m\u001b[43m(\u001b[49m\u001b[43mfile1\u001b[49m\u001b[43m,\u001b[49m\u001b[43m \u001b[49m\u001b[43mfile2\u001b[49m\u001b[43m,\u001b[49m\u001b[43m \u001b[49m\u001b[43mmodel_path\u001b[49m\u001b[43m)\u001b[49m\n\u001b[32m     20\u001b[39m \u001b[38;5;28;01mif\u001b[39;00m score \u001b[38;5;129;01mis\u001b[39;00m \u001b[38;5;129;01mnot\u001b[39;00m \u001b[38;5;28;01mNone\u001b[39;00m:\n\u001b[32m     21\u001b[39m     \u001b[38;5;28mprint\u001b[39m(\u001b[33mf\u001b[39m\u001b[33m\"\u001b[39m\u001b[33mArchivo 1: \u001b[39m\u001b[38;5;132;01m{\u001b[39;00mfile1\u001b[38;5;132;01m}\u001b[39;00m\u001b[33m\"\u001b[39m)\n",
      "\u001b[36mCell\u001b[39m\u001b[36m \u001b[39m\u001b[32mIn[23]\u001b[39m\u001b[32m, line 26\u001b[39m, in \u001b[36mpredict_similarity\u001b[39m\u001b[34m(file1, file2, model_path)\u001b[39m\n\u001b[32m     23\u001b[39m t2 = extract_tokens(code2)\n\u001b[32m     24\u001b[39m token_pair = \u001b[33mf\u001b[39m\u001b[33m\"\u001b[39m\u001b[38;5;132;01m{\u001b[39;00mt1\u001b[38;5;132;01m}\u001b[39;00m\u001b[33m \u001b[39m\u001b[38;5;132;01m{\u001b[39;00mt2\u001b[38;5;132;01m}\u001b[39;00m\u001b[33m\"\u001b[39m\n\u001b[32m---> \u001b[39m\u001b[32m26\u001b[39m X = \u001b[43mvectorizer\u001b[49m\u001b[43m.\u001b[49m\u001b[43mtransform\u001b[49m([token_pair])\n\u001b[32m     28\u001b[39m \u001b[38;5;66;03m# Predecir\u001b[39;00m\n\u001b[32m     29\u001b[39m \u001b[38;5;28;01mif\u001b[39;00m \u001b[38;5;28mhasattr\u001b[39m(model, \u001b[33m'\u001b[39m\u001b[33mpredict_proba\u001b[39m\u001b[33m'\u001b[39m):\n",
      "\u001b[31mAttributeError\u001b[39m: 'MLPClassifier' object has no attribute 'transform'"
     ]
    }
   ],
   "source": [
    "file1 = \"original.java\"\n",
    "file2 = \"plagiarized.java\"\n",
    "\n",
    "model_path = 'rf_model.pkl'\n",
    "\n",
    "if not os.path.exists(file1):\n",
    "    print(f\"Error: El archivo {file1} no existe.\")\n",
    "    sys.exit(1)\n",
    "\n",
    "if not os.path.exists(file2):\n",
    "    print(f\"Error: El archivo {file2} no existe.\")\n",
    "    sys.exit(1)\n",
    "\n",
    "if not os.path.exists(model_path):\n",
    "    print(f\"Error: El modelo {model_path} no existe.\")\n",
    "    sys.exit(1)\n",
    "\n",
    "score, is_similar = predict_similarity(file1, file2, model_path)\n",
    "\n",
    "if score is not None:\n",
    "    print(f\"Archivo 1: {file1}\")\n",
    "    print(f\"Archivo 2: {file2}\")\n",
    "    print(f\"{score:.4f}\")\n",
    "    print(f\"{is_similar}\")"
   ]
  }
 ],
 "metadata": {
  "kernelspec": {
   "display_name": "Python 3",
   "language": "python",
   "name": "python3"
  },
  "language_info": {
   "codemirror_mode": {
    "name": "ipython",
    "version": 3
   },
   "file_extension": ".py",
   "mimetype": "text/x-python",
   "name": "python",
   "nbconvert_exporter": "python",
   "pygments_lexer": "ipython3",
   "version": "3.13.3"
  },
  "orig_nbformat": 4
 },
 "nbformat": 4,
 "nbformat_minor": 2
}
